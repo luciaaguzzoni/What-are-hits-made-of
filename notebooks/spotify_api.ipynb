{
 "cells": [
  {
   "cell_type": "code",
   "execution_count": 3,
   "id": "87f0f9d9",
   "metadata": {},
   "outputs": [],
   "source": [
    "import pandas as pd\n",
    "from pandas import json_normalize\n",
    "\n",
    "import requests \n",
    "import json\n",
    "import os\n",
    "from dotenv import load_dotenv #conda install -c conda-forge python-dotenv\n",
    "\n",
    "import time\n",
    "\n",
    "import sys\n",
    "sys.path.append(\"../\")\n",
    "\n",
    "from getpass import getpass"
   ]
  },
  {
   "cell_type": "code",
   "execution_count": 5,
   "id": "35dda741",
   "metadata": {},
   "outputs": [
    {
     "name": "stdout",
     "output_type": "stream",
     "text": [
      "········\n"
     ]
    }
   ],
   "source": [
    "CLIENT_SECRET = getpass()"
   ]
  },
  {
   "cell_type": "code",
   "execution_count": 6,
   "id": "a3d9eace",
   "metadata": {},
   "outputs": [],
   "source": [
    "url_token = \"https://accounts.spotify.com/api/token\"\n",
    "CLIENT_ID = \"d590634c7439463cba572d482c9f0882\"\n",
    "data = {\n",
    "    'grant_type': 'client_credentials',\n",
    "    'client_id': CLIENT_ID,\n",
    "    'client_secret': CLIENT_SECRET,\n",
    "}\n"
   ]
  },
  {
   "cell_type": "code",
   "execution_count": 7,
   "id": "a530f1a8",
   "metadata": {},
   "outputs": [
    {
     "data": {
      "text/plain": [
       "{'access_token': 'BQBPTOZzg2OPDNJCJ8R_DLjqt5X1sw-rRgqmRgHB4V5Ph48cMZN7AvQVLci5QKgvbea8iLCnY7jtUA9Av0w1dWHfzOe1ESOr70L_YjY3dYWocNrx4ns',\n",
       " 'token_type': 'Bearer',\n",
       " 'expires_in': 3600}"
      ]
     },
     "execution_count": 7,
     "metadata": {},
     "output_type": "execute_result"
    }
   ],
   "source": [
    "response = requests.post('https://accounts.spotify.com/api/token', data=data)\n",
    "response.json()"
   ]
  },
  {
   "cell_type": "code",
   "execution_count": 8,
   "id": "bfad645c",
   "metadata": {},
   "outputs": [],
   "source": [
    "token=response.json()['access_token']"
   ]
  },
  {
   "cell_type": "code",
   "execution_count": null,
   "id": "cd740277",
   "metadata": {},
   "outputs": [],
   "source": []
  },
  {
   "cell_type": "code",
   "execution_count": 9,
   "id": "7d1e18f0",
   "metadata": {},
   "outputs": [],
   "source": [
    "url = \"https://api.spotify.com/v1/\""
   ]
  },
  {
   "cell_type": "code",
   "execution_count": 10,
   "id": "88a17b84",
   "metadata": {},
   "outputs": [],
   "source": [
    "endpoint = \"users/11125584999\""
   ]
  },
  {
   "cell_type": "code",
   "execution_count": 11,
   "id": "032dc2b4",
   "metadata": {},
   "outputs": [],
   "source": [
    "headers = {\n",
    "    #\"accept\" : \"application/json\",\n",
    "    'Authorization': f'Bearer {token}'\n",
    "}"
   ]
  },
  {
   "cell_type": "code",
   "execution_count": 12,
   "id": "5fcdfaae",
   "metadata": {},
   "outputs": [
    {
     "data": {
      "text/plain": [
       "{'display_name': 'Lucia Aguzzoni',\n",
       " 'external_urls': {'spotify': 'https://open.spotify.com/user/11125584999'},\n",
       " 'href': 'https://api.spotify.com/v1/users/11125584999',\n",
       " 'id': '11125584999',\n",
       " 'images': [{'url': 'https://scontent-ams2-1.xx.fbcdn.net/v/t31.18172-1/26756665_1161440227320362_4798851869488365178_o.jpg?stp=c0.16.50.50a_cp0_dst-jpg_p50x50&_nc_cat=108&ccb=1-7&_nc_sid=db1b99&_nc_ohc=16thrc3yC-QAX87zxc4&_nc_ht=scontent-ams2-1.xx&edm=AP4hL3IEAAAA&oh=00_AfBD22ol16d4_MvXR3oOzx7fkqg9Aax56uhA_Yw2GvHZXg&oe=6562D8B8',\n",
       "   'height': 64,\n",
       "   'width': 64},\n",
       "  {'url': 'https://scontent-ams2-1.xx.fbcdn.net/v/t31.18172-1/26756665_1161440227320362_4798851869488365178_o.jpg?stp=c0.103.320.320a_dst-jpg_p320x320&_nc_cat=108&ccb=1-7&_nc_sid=0be577&_nc_ohc=16thrc3yC-QAX87zxc4&_nc_ht=scontent-ams2-1.xx&edm=AP4hL3IEAAAA&oh=00_AfDrueMcVi2Bu7rHHHtZsRngOofbmOVJZrIWF1dI2xgFBg&oe=6562D8B8',\n",
       "   'height': 300,\n",
       "   'width': 300}],\n",
       " 'type': 'user',\n",
       " 'uri': 'spotify:user:11125584999',\n",
       " 'followers': {'href': None, 'total': 61}}"
      ]
     },
     "execution_count": 12,
     "metadata": {},
     "output_type": "execute_result"
    }
   ],
   "source": [
    "res = requests.get(url+endpoint, headers=headers)\n",
    "res.json()"
   ]
  },
  {
   "cell_type": "code",
   "execution_count": null,
   "id": "34b47b4c",
   "metadata": {},
   "outputs": [],
   "source": []
  },
  {
   "cell_type": "code",
   "execution_count": null,
   "id": "98665311",
   "metadata": {},
   "outputs": [],
   "source": []
  }
 ],
 "metadata": {
  "kernelspec": {
   "display_name": "ironhack",
   "language": "python",
   "name": "ironhack"
  },
  "language_info": {
   "codemirror_mode": {
    "name": "ipython",
    "version": 3
   },
   "file_extension": ".py",
   "mimetype": "text/x-python",
   "name": "python",
   "nbconvert_exporter": "python",
   "pygments_lexer": "ipython3",
   "version": "3.11.5"
  }
 },
 "nbformat": 4,
 "nbformat_minor": 5
}
